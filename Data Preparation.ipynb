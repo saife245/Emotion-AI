{
 "cells": [
  {
   "cell_type": "markdown",
   "metadata": {},
   "source": [
    "# REAL TIME FACE EXPRESSION \n",
    "\n",
    "- DATA TAKEN FROM KAGGLE \n",
    "- First we preprocess the image and convert the image into processed pickle file.\n",
    "- We use the Gray scale for image preprocess\n",
    "- And resize the image into 48x48\n"
   ]
  },
  {
   "cell_type": "markdown",
   "metadata": {},
   "source": [
    "## IMPORTING LIBRARY"
   ]
  },
  {
   "cell_type": "code",
   "execution_count": 1,
   "metadata": {},
   "outputs": [],
   "source": [
    "import os\n",
    "import pickle\n",
    "import numpy as np\n",
    "import cv2\n",
    "import matplotlib.pyplot as plt"
   ]
  },
  {
   "cell_type": "code",
   "execution_count": 2,
   "metadata": {},
   "outputs": [
    {
     "data": {
      "image/png": "[encoded data removed]",
      "text/plain": [
       "<Figure size 432x288 with 1 Axes>"
      ]
     },
     "metadata": {},
     "output_type": "display_data"
    }
   ],
   "source": [
    "DATADIR = \"C:\\\\Users\\\\SAMEER\\\\Downloads\\\\car\\\\Real_Time_Face_Expression\\\\Images\\\\train\"\n",
    "CATEGORIES=[\"angry\", \"disgust\",\"fear\",\"happy\",\"neutral\",\"sad\",\"surprise\"]\n",
    "\n",
    "for category in CATEGORIES:\n",
    "    path= os.path.join(DATADIR, category) #path to cats or dogs\n",
    "    for img in os.listdir(path):\n",
    "        img_array= cv2.imread(os.path.join(path, img), cv2.IMREAD_GRAYSCALE)\n",
    "        plt.imshow(img_array, cmap= 'gray')\n",
    "        plt.show()\n",
    "        break\n",
    "    break"
   ]
  },
  {
   "cell_type": "code",
   "execution_count": 3,
   "metadata": {},
   "outputs": [
    {
     "name": "stdout",
     "output_type": "stream",
     "text": [
      "[[ 72  78  81 ...  52  43  40]\n",
      " [ 65  62  59 ...  55  52  45]\n",
      " [ 47  42  60 ...  47  54  49]\n",
      " ...\n",
      " [ 91  65  46 ...  74  54  43]\n",
      " [ 76  80  76 ... 108  69  46]\n",
      " [ 77  74  81 ... 105 108  82]]\n"
     ]
    }
   ],
   "source": [
    "print(img_array)"
   ]
  },
  {
   "cell_type": "code",
   "execution_count": 4,
   "metadata": {},
   "outputs": [
    {
     "name": "stdout",
     "output_type": "stream",
     "text": [
      "(48, 48)\n"
     ]
    }
   ],
   "source": [
    "print(img_array.shape)"
   ]
  },
  {
   "cell_type": "code",
   "execution_count": 5,
   "metadata": {},
   "outputs": [
    {
     "data": {
      "image/png": "[encoded data removed]",
      "text/plain": [
       "<Figure size 432x288 with 1 Axes>"
      ]
     },
     "metadata": {},
     "output_type": "display_data"
    }
   ],
   "source": [
    "IMZ_SIZE= 60\n",
    "new_array= cv2.resize(img_array, (IMZ_SIZE, IMZ_SIZE))\n",
    "plt.imshow(new_array, cmap= 'gray')\n",
    "plt.show()"
   ]
  },
  {
   "cell_type": "code",
   "execution_count": 6,
   "metadata": {},
   "outputs": [],
   "source": [
    "training_data=[]\n",
    "\n",
    "def create_training_data():\n",
    "    for category in CATEGORIES:\n",
    "        path= os.path.join(DATADIR, category) #path to cats or dogs\n",
    "        class_num= CATEGORIES.index(category)\n",
    "        for img in os.listdir(path):\n",
    "          try:\n",
    "            img_array= cv2.imread(os.path.join(path, img), cv2.IMREAD_GRAYSCALE)\n",
    "            new_array= cv2.resize(img_array, (IMZ_SIZE, IMZ_SIZE))\n",
    "            training_data.append([new_array, class_num])\n",
    "          except Exception as e:\n",
    "               pass\n",
    "        \n",
    "create_training_data()"
   ]
  },
  {
   "cell_type": "code",
   "execution_count": 7,
   "metadata": {},
   "outputs": [
    {
     "name": "stdout",
     "output_type": "stream",
     "text": [
      "28821\n"
     ]
    }
   ],
   "source": [
    "print(len(training_data))"
   ]
  },
  {
   "cell_type": "code",
   "execution_count": 8,
   "metadata": {},
   "outputs": [],
   "source": [
    "import random\n",
    "\n",
    "random.shuffle(training_data)"
   ]
  },
  {
   "cell_type": "code",
   "execution_count": 9,
   "metadata": {},
   "outputs": [
    {
     "name": "stdout",
     "output_type": "stream",
     "text": [
      "6\n",
      "4\n",
      "4\n",
      "6\n",
      "2\n",
      "5\n",
      "0\n",
      "0\n",
      "4\n",
      "3\n"
     ]
    }
   ],
   "source": [
    "for sample in training_data[:10]:\n",
    "    print(sample[1])"
   ]
  },
  {
   "cell_type": "code",
   "execution_count": 10,
   "metadata": {},
   "outputs": [],
   "source": [
    "x=[]\n",
    "y=[]"
   ]
  },
  {
   "cell_type": "code",
   "execution_count": 11,
   "metadata": {},
   "outputs": [],
   "source": [
    "for features, label in training_data:\n",
    "    x.append(features)\n",
    "    y.append(label)\n",
    "x= np.array(x).reshape(-1, IMZ_SIZE, IMZ_SIZE, 1) # 1<- for grayscale image"
   ]
  },
  {
   "cell_type": "code",
   "execution_count": 12,
   "metadata": {},
   "outputs": [],
   "source": [
    "import pickle\n",
    "\n",
    "pickle_out= open(\"x.pickle\",\"wb\")\n",
    "pickle.dump(x, pickle_out)\n",
    "\n",
    "pickle_out= open(\"y.pickle\",\"wb\")\n",
    "pickle.dump(y, pickle_out)\n",
    "pickle_out.close()"
   ]
  },
  {
   "cell_type": "markdown",
   "metadata": {},
   "source": [
    "## Saving the processed image into pickle file for further process."
   ]
  }
 ],
 "metadata": {
  "kernelspec": {
   "display_name": "Python 3",
   "language": "python",
   "name": "python3"
  },
  "language_info": {
   "codemirror_mode": {
    "name": "ipython",
    "version": 3
   },
   "file_extension": ".py",
   "mimetype": "text/x-python",
   "name": "python",
   "nbconvert_exporter": "python",
   "pygments_lexer": "ipython3",
   "version": "3.6.5"
  }
 },
 "nbformat": 4,
 "nbformat_minor": 2
}
